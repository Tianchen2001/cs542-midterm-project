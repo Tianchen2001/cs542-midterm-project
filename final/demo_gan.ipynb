{
 "cells": [
  {
   "cell_type": "markdown",
   "metadata": {},
   "source": [
    "# GAN Demo"
   ]
  },
  {
   "cell_type": "markdown",
   "metadata": {},
   "source": [
    "## Load Libraries"
   ]
  },
  {
   "cell_type": "code",
   "execution_count": null,
   "metadata": {},
   "outputs": [],
   "source": [
    "import torch\n",
    "import torch.optim as optim\n",
    "from torchvision import datasets\n",
    "from torchvision import transforms\n",
    "from torch.utils.data import DataLoader\n",
    "from torchvision.datasets import ImageFolder\n",
    "\n",
    "import matplotlib.pyplot as plt\n",
    "\n",
    "%matplotlib inline\n",
    "plt.rcParams['figure.figsize'] = (10.0, 8.0) # set default size of plots\n",
    "plt.rcParams['image.interpolation'] = 'nearest'\n",
    "plt.rcParams['image.cmap'] = 'gray'\n",
    "\n",
    "%load_ext autoreload\n",
    "%autoreload 2"
   ]
  },
  {
   "cell_type": "markdown",
   "metadata": {},
   "source": [
    "## Load Utils"
   ]
  },
  {
   "cell_type": "code",
   "execution_count": null,
   "metadata": {},
   "outputs": [],
   "source": [
    "from models.gan_train import train_gan\n",
    "from models.utils import show_images"
   ]
  },
  {
   "cell_type": "code",
   "execution_count": null,
   "metadata": {},
   "outputs": [],
   "source": [
    "device = torch.device(\"cuda:0\" if torch.cuda.is_available() else \"cpu\")"
   ]
  },
  {
   "cell_type": "code",
   "execution_count": null,
   "metadata": {},
   "outputs": [],
   "source": [
    "NOISE_DIM = 100"
   ]
  },
  {
   "cell_type": "markdown",
   "metadata": {},
   "source": [
    "## Load Losses"
   ]
  },
  {
   "cell_type": "code",
   "execution_count": null,
   "metadata": {},
   "outputs": [],
   "source": [
    "from models.gan_loss import discriminator_loss, generator_loss, ls_discriminator_loss, ls_generator_loss"
   ]
  },
  {
   "cell_type": "markdown",
   "metadata": {},
   "source": [
    "## LNN-based GAN"
   ]
  },
  {
   "cell_type": "markdown",
   "metadata": {},
   "source": [
    "### Load Model"
   ]
  },
  {
   "cell_type": "code",
   "execution_count": null,
   "metadata": {},
   "outputs": [],
   "source": [
    "from models.gan import LNN_Discriminator, LNN_Generator"
   ]
  },
  {
   "cell_type": "markdown",
   "metadata": {},
   "source": [
    "### Load Data"
   ]
  },
  {
   "cell_type": "code",
   "execution_count": null,
   "metadata": {},
   "outputs": [],
   "source": [
    "batch_size = 128\n",
    "\n",
    "mnist = datasets.MNIST('./data', train=True, download=True, transform=transforms.ToTensor())\n",
    "train_loader = DataLoader(mnist, batch_size=batch_size, drop_last=True)\n",
    "\n",
    "try:\n",
    "  imgs = next(iter(train_loader))[0].view(batch_size, 784).numpy().squeeze()\n",
    "except:\n",
    "  imgs = train_loader.__iter__().next()[0].view(batch_size, 784).numpy().squeeze()\n",
    "\n",
    "show_images(imgs)"
   ]
  },
  {
   "cell_type": "markdown",
   "metadata": {},
   "source": [
    "### Train Model with GAN Loss"
   ]
  },
  {
   "cell_type": "code",
   "execution_count": null,
   "metadata": {},
   "outputs": [],
   "source": [
    "LNN_D = LNN_Discriminator(input_channels=1, image_size=28).to(device)\n",
    "LNN_G = LNN_Generator(NOISE_DIM).to(device)\n",
    "\n",
    "LNN_D_optimizer = optim.Adam(LNN_D.parameters(), lr=1e-3, betas=(0.5, 0.999))\n",
    "LNN_G_optimizer = optim.Adam(LNN_G.parameters(), lr=1e-3, betas=(0.5, 0.999))\n",
    "\n",
    "train_gan(LNN_D, LNN_G, LNN_D_optimizer, LNN_G_optimizer, discriminator_loss, generator_loss, show_every=500, train_loader=train_loader, num_epochs=10, device=device)"
   ]
  },
  {
   "cell_type": "markdown",
   "metadata": {},
   "source": [
    "### Train Model with LSGAN Loss"
   ]
  },
  {
   "cell_type": "code",
   "execution_count": null,
   "metadata": {},
   "outputs": [],
   "source": [
    "LNN_D_LS = LNN_Discriminator(input_channels=1, image_size=28).to(device)\n",
    "LNN_G_LS = LNN_Generator(NOISE_DIM).to(device)\n",
    "\n",
    "LNN_D_LS_optimizer = optim.Adam(LNN_D_LS.parameters(), lr=1e-3, betas=(0.5, 0.999))\n",
    "LNN_G_LS_optimizer = optim.Adam(LNN_G_LS.parameters(), lr=1e-3, betas=(0.5, 0.999))\n",
    "\n",
    "train_gan(LNN_D_LS, LNN_G_LS, LNN_D_LS_optimizer, LNN_G_LS_optimizer, ls_discriminator_loss, ls_generator_loss, show_every=500, train_loader=train_loader, num_epochs=10, device=device)"
   ]
  },
  {
   "cell_type": "markdown",
   "metadata": {},
   "source": [
    "## CNN-based GAN"
   ]
  },
  {
   "cell_type": "markdown",
   "metadata": {},
   "source": [
    "### Load Model"
   ]
  },
  {
   "cell_type": "code",
   "execution_count": null,
   "metadata": {},
   "outputs": [],
   "source": [
    "from models.gan import CNN_Discriminator, CNN_Generator"
   ]
  },
  {
   "cell_type": "markdown",
   "metadata": {},
   "source": [
    "### Load Data"
   ]
  },
  {
   "cell_type": "code",
   "execution_count": null,
   "metadata": {},
   "outputs": [],
   "source": [
    "batch_size = 64\n",
    "image_size = 64\n",
    "cat_root = './data/cats'\n",
    "\n",
    "cat_train = ImageFolder(root=cat_root, transform=transforms.Compose([\n",
    "  transforms.ToTensor(),\n",
    "  transforms.Resize(int(1.15 * image_size), antialias=True),\n",
    "  transforms.RandomCrop(image_size),\n",
    "  transforms.ColorJitter(brightness=0.1, contrast=0.1, saturation=0.1, hue=0.1),\n",
    "]))\n",
    "\n",
    "cat_train_loader = DataLoader(cat_train, batch_size=batch_size, drop_last=True)"
   ]
  },
  {
   "cell_type": "code",
   "execution_count": null,
   "metadata": {},
   "outputs": [],
   "source": [
    "try:\n",
    "  imgs = next(iter(cat_train_loader))[0].numpy().squeeze()\n",
    "except:\n",
    "  imgs = cat_train_loader.__iter__().next()[0].numpy().squeeze()\n",
    "\n",
    "show_images(imgs, color=True)"
   ]
  },
  {
   "cell_type": "markdown",
   "metadata": {},
   "source": [
    "### Train Model with GAN Loss"
   ]
  },
  {
   "cell_type": "code",
   "execution_count": null,
   "metadata": {},
   "outputs": [],
   "source": [
    "CNN_D = CNN_Discriminator(input_channels=3).to(device)\n",
    "CNN_G = CNN_Generator(NOISE_DIM).to(device)\n",
    "\n",
    "CNN_D_optimizer = optim.Adam(CNN_D.parameters(), lr=1e-3, betas=(0.5, 0.999))\n",
    "CNN_G_optimizer = optim.Adam(CNN_G.parameters(), lr=1e-3, betas=(0.5, 0.999))\n",
    "\n",
    "train_gan(CNN_D, CNN_G, CNN_D_optimizer, CNN_G_optimizer, discriminator_loss, generator_loss, show_every=250, train_loader=cat_train_loader, num_epochs=50, device=device)"
   ]
  },
  {
   "cell_type": "markdown",
   "metadata": {},
   "source": [
    "### Train Model with LSGAN Loss"
   ]
  },
  {
   "cell_type": "code",
   "execution_count": null,
   "metadata": {},
   "outputs": [],
   "source": [
    "CNN_D_LS = CNN_Discriminator(input_channels=3).to(device)\n",
    "CNN_G_LS = CNN_Generator(NOISE_DIM).to(device)\n",
    "\n",
    "CNN_D_LS_optimizer = optim.Adam(CNN_D_LS.parameters(), lr=1e-3, betas=(0.5, 0.999))\n",
    "CNN_G_LS_optimizer = optim.Adam(CNN_G_LS.parameters(), lr=1e-3, betas=(0.5, 0.999))\n",
    "\n",
    "train_gan(CNN_D_LS, CNN_G_LS, CNN_D_LS_optimizer, CNN_G_LS_optimizer, discriminator_loss, generator_loss, show_every=250, train_loader=cat_train_loader, num_epochs=50, device=device)"
   ]
  }
 ],
 "metadata": {
  "kernelspec": {
   "display_name": "Python 3",
   "language": "python",
   "name": "python3"
  },
  "language_info": {
   "codemirror_mode": {
    "name": "ipython",
    "version": 3
   },
   "file_extension": ".py",
   "mimetype": "text/x-python",
   "name": "python",
   "nbconvert_exporter": "python",
   "pygments_lexer": "ipython3",
   "version": "3.10.12"
  }
 },
 "nbformat": 4,
 "nbformat_minor": 2
}
