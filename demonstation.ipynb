{
 "cells": [
  {
   "cell_type": "markdown",
   "metadata": {},
   "source": [
    "## Loading Data"
   ]
  },
  {
   "cell_type": "code",
   "execution_count": 1,
   "metadata": {},
   "outputs": [],
   "source": [
    "import torch\n",
    "import torchvision\n",
    "import torchvision.transforms as transforms"
   ]
  },
  {
   "cell_type": "code",
   "execution_count": 2,
   "metadata": {},
   "outputs": [],
   "source": [
    "transform = transforms.Compose(\n",
    "    [\n",
    "        transforms.ToTensor(),\n",
    "        transforms.Normalize((0.5, 0.5, 0.5), (0.5, 0.5, 0.5))\n",
    "    ]\n",
    ")"
   ]
  },
  {
   "cell_type": "code",
   "execution_count": 3,
   "metadata": {},
   "outputs": [
    {
     "name": "stdout",
     "output_type": "stream",
     "text": [
      "Files already downloaded and verified\n",
      "Files already downloaded and verified\n"
     ]
    }
   ],
   "source": [
    "train_dataset = torchvision.datasets.CIFAR10(root='./data', train=True, download=True, transform=transform)\n",
    "\n",
    "train_set, valid_set = torch.utils.data.random_split(train_dataset, [40000, 10000])\n",
    "test_set = torchvision.datasets.CIFAR10(root='./data', train=False, download=True, transform=transform)"
   ]
  },
  {
   "cell_type": "code",
   "execution_count": 4,
   "metadata": {},
   "outputs": [],
   "source": [
    "train_loader = torch.utils.data.DataLoader(train_set, batch_size=32, shuffle=True, num_workers=2)\n",
    "valid_loader = torch.utils.data.DataLoader(valid_set, batch_size=32, shuffle=False, num_workers=2)\n",
    "test_loader = torch.utils.data.DataLoader(test_set, batch_size=32, shuffle=False, num_workers=2)"
   ]
  },
  {
   "cell_type": "markdown",
   "metadata": {},
   "source": [
    "## Training and Testing Utils"
   ]
  },
  {
   "cell_type": "code",
   "execution_count": 5,
   "metadata": {},
   "outputs": [],
   "source": [
    "import time\n",
    "from tqdm import tqdm"
   ]
  },
  {
   "cell_type": "code",
   "execution_count": 6,
   "metadata": {},
   "outputs": [],
   "source": [
    "def train_model(model, train_loader, valid_loader, criterion, optimizer, epochs=10, device='cpu', model_name='model'):\n",
    "    model.to(device)\n",
    "\n",
    "    train_loss_history = []\n",
    "    train_accuracy_history = []\n",
    "    \n",
    "    valid_loss_history = []\n",
    "    valid_accuracy_history = []\n",
    "    \n",
    "    best_iter = 0\n",
    "    best_valid_loss = float('inf')\n",
    "    best_valid_accuracy = 0.0\n",
    "    best_model = None\n",
    "\n",
    "    start_time = time.time()\n",
    "\n",
    "    for epoch in range(epochs):\n",
    "        model.train()\n",
    "\n",
    "        train_loss, train_corrects = 0.0, 0\n",
    "\n",
    "        for inputs, labels in tqdm(train_loader, desc=f'Epoch {epoch+1}/{epochs}'):\n",
    "            inputs, labels = inputs.to(device), labels.to(device)\n",
    "\n",
    "            outputs = model(inputs)\n",
    "            loss = criterion(outputs, labels)\n",
    "\n",
    "            optimizer.zero_grad()\n",
    "            loss.backward()\n",
    "            optimizer.step()\n",
    "\n",
    "            train_loss += loss.item() * inputs.size(0)\n",
    "\n",
    "            predicted = outputs.argmax(dim=1)\n",
    "            train_corrects += (predicted == labels).sum().item()\n",
    "    \n",
    "        train_loss = train_loss / len(train_loader.dataset)\n",
    "        train_accuracy = train_corrects / len(train_loader.dataset)\n",
    "\n",
    "        train_loss_history.append(train_loss)\n",
    "        train_accuracy_history.append(train_accuracy)\n",
    "        \n",
    "        model.eval()\n",
    "        \n",
    "        valid_loss, valid_corrects = 0.0, 0\n",
    "        \n",
    "        with torch.no_grad():\n",
    "            for inputs, labels in tqdm(valid_loader, desc=f'Epoch {epoch+1}/{epochs}'):\n",
    "                inputs, labels = inputs.to(device), labels.to(device)\n",
    "\n",
    "                outputs = model(inputs)\n",
    "                loss = criterion(outputs, labels)\n",
    "\n",
    "                valid_loss += loss.item() * inputs.size(0)\n",
    "\n",
    "                predicted = outputs.argmax(dim=1)\n",
    "                valid_corrects += (predicted == labels).sum().item()\n",
    "        \n",
    "        valid_loss = valid_loss / len(valid_loader.dataset)\n",
    "        valid_accuracy = valid_corrects / len(valid_loader.dataset)\n",
    "        \n",
    "        if valid_accuracy > best_valid_accuracy:\n",
    "            best_iter = epoch + 1\n",
    "            best_valid_loss = valid_loss\n",
    "            best_valid_accuracy = valid_accuracy\n",
    "            best_model = model.state_dict()\n",
    "        \n",
    "        valid_loss_history.append(valid_loss)\n",
    "        valid_accuracy_history.append(valid_accuracy)\n",
    "        \n",
    "        print(f'Train Loss: {train_loss:.4f}, Train Accuracy: {train_accuracy:.4f}')\n",
    "        print(f'Valid Loss: {valid_loss:.4f}, Valid Accuracy: {valid_accuracy:.4f}')\n",
    "    \n",
    "    end_time = time.time()\n",
    "\n",
    "    print(f'Total training time: {end_time - start_time:.2f} seconds.')\n",
    "    \n",
    "    torch.save(best_model, f'weights/{model_name}_best.pth')\n",
    "    \n",
    "    print(f'Best model at epoch {best_iter} with valid loss: {best_valid_loss:.4f}, valid accuracy: {best_valid_accuracy:.4f}')\n",
    "\n",
    "    return train_loss_history, train_accuracy_history, valid_loss_history, valid_accuracy_history"
   ]
  },
  {
   "cell_type": "code",
   "execution_count": 7,
   "metadata": {},
   "outputs": [],
   "source": [
    "def test_model(model, test_loader, criterion, device='cpu'):\n",
    "    model.to(device)\n",
    "    model.eval()\n",
    "    \n",
    "    test_loss, test_corrects = 0.0, 0\n",
    "    \n",
    "    with torch.no_grad():\n",
    "        for inputs, labels in test_loader:\n",
    "            inputs, labels = inputs.to(device), labels.to(device)\n",
    "            \n",
    "            outputs = model(inputs)\n",
    "            loss = criterion(outputs, labels)\n",
    "            \n",
    "            test_loss += loss.item() * inputs.size(0)\n",
    "            \n",
    "            predicted = outputs.argmax(dim=1)\n",
    "            test_corrects += (predicted == labels).sum().item()\n",
    "        \n",
    "    test_loss = test_loss / len(test_loader.dataset)\n",
    "    test_accuracy = test_corrects / len(test_loader.dataset)\n",
    "    \n",
    "    print(f'Test Loss: {test_loss:.4f}, Test Accuracy: {test_accuracy:.4f}%')\n",
    "    \n",
    "    return test_loss, test_accuracy"
   ]
  },
  {
   "cell_type": "markdown",
   "metadata": {},
   "source": [
    "## Loading Models"
   ]
  },
  {
   "cell_type": "code",
   "execution_count": 8,
   "metadata": {},
   "outputs": [],
   "source": [
    "from models import lnn, cnn\n",
    "from matplotlib import pyplot as plt"
   ]
  },
  {
   "cell_type": "markdown",
   "metadata": {},
   "source": [
    "#### Linear Neural Network"
   ]
  },
  {
   "cell_type": "code",
   "execution_count": 9,
   "metadata": {},
   "outputs": [
    {
     "name": "stdout",
     "output_type": "stream",
     "text": [
      "Number of parameters:  34526978\n"
     ]
    }
   ],
   "source": [
    "lnn_model = lnn.LNN(32 * 32 * 3, num_classes=10)\n",
    "\n",
    "num_params = sum([p.numel() for p in lnn_model.parameters()])\n",
    "print(\"Number of parameters: \", num_params)"
   ]
  },
  {
   "cell_type": "code",
   "execution_count": 10,
   "metadata": {},
   "outputs": [
    {
     "name": "stderr",
     "output_type": "stream",
     "text": [
      "Epoch 1/30: 100%|██████████| 1250/1250 [00:16<00:00, 77.50it/s]\n",
      "Epoch 1/30: 100%|██████████| 313/313 [00:00<00:00, 384.14it/s]\n"
     ]
    },
    {
     "name": "stdout",
     "output_type": "stream",
     "text": [
      "Train Loss: 1.8207, Train Accuracy: 0.3446\n",
      "Valid Loss: 1.6370, Valid Accuracy: 0.4078\n"
     ]
    },
    {
     "name": "stderr",
     "output_type": "stream",
     "text": [
      "Epoch 2/30: 100%|██████████| 1250/1250 [00:16<00:00, 76.85it/s]\n",
      "Epoch 2/30: 100%|██████████| 313/313 [00:00<00:00, 399.64it/s]\n"
     ]
    },
    {
     "name": "stdout",
     "output_type": "stream",
     "text": [
      "Train Loss: 1.5601, Train Accuracy: 0.4448\n",
      "Valid Loss: 1.5174, Valid Accuracy: 0.4607\n"
     ]
    },
    {
     "name": "stderr",
     "output_type": "stream",
     "text": [
      "Epoch 3/30: 100%|██████████| 1250/1250 [00:16<00:00, 76.87it/s]\n",
      "Epoch 3/30: 100%|██████████| 313/313 [00:00<00:00, 395.32it/s]\n"
     ]
    },
    {
     "name": "stdout",
     "output_type": "stream",
     "text": [
      "Train Loss: 1.4395, Train Accuracy: 0.4876\n",
      "Valid Loss: 1.4512, Valid Accuracy: 0.4834\n"
     ]
    },
    {
     "name": "stderr",
     "output_type": "stream",
     "text": [
      "Epoch 4/30: 100%|██████████| 1250/1250 [00:16<00:00, 75.87it/s]\n",
      "Epoch 4/30: 100%|██████████| 313/313 [00:00<00:00, 393.99it/s]\n"
     ]
    },
    {
     "name": "stdout",
     "output_type": "stream",
     "text": [
      "Train Loss: 1.3459, Train Accuracy: 0.5228\n",
      "Valid Loss: 1.4054, Valid Accuracy: 0.5058\n"
     ]
    },
    {
     "name": "stderr",
     "output_type": "stream",
     "text": [
      "Epoch 5/30: 100%|██████████| 1250/1250 [00:16<00:00, 76.45it/s]\n",
      "Epoch 5/30: 100%|██████████| 313/313 [00:00<00:00, 404.71it/s]\n"
     ]
    },
    {
     "name": "stdout",
     "output_type": "stream",
     "text": [
      "Train Loss: 1.2636, Train Accuracy: 0.5526\n",
      "Valid Loss: 1.3884, Valid Accuracy: 0.5093\n"
     ]
    },
    {
     "name": "stderr",
     "output_type": "stream",
     "text": [
      "Epoch 6/30: 100%|██████████| 1250/1250 [00:16<00:00, 76.66it/s]\n",
      "Epoch 6/30: 100%|██████████| 313/313 [00:00<00:00, 417.86it/s]\n"
     ]
    },
    {
     "name": "stdout",
     "output_type": "stream",
     "text": [
      "Train Loss: 1.1948, Train Accuracy: 0.5757\n",
      "Valid Loss: 1.3508, Valid Accuracy: 0.5281\n"
     ]
    },
    {
     "name": "stderr",
     "output_type": "stream",
     "text": [
      "Epoch 7/30: 100%|██████████| 1250/1250 [00:16<00:00, 76.74it/s]\n",
      "Epoch 7/30: 100%|██████████| 313/313 [00:00<00:00, 396.16it/s]\n"
     ]
    },
    {
     "name": "stdout",
     "output_type": "stream",
     "text": [
      "Train Loss: 1.1232, Train Accuracy: 0.6020\n",
      "Valid Loss: 1.3631, Valid Accuracy: 0.5268\n"
     ]
    },
    {
     "name": "stderr",
     "output_type": "stream",
     "text": [
      "Epoch 8/30: 100%|██████████| 1250/1250 [00:16<00:00, 76.31it/s]\n",
      "Epoch 8/30: 100%|██████████| 313/313 [00:00<00:00, 386.67it/s]\n"
     ]
    },
    {
     "name": "stdout",
     "output_type": "stream",
     "text": [
      "Train Loss: 1.0585, Train Accuracy: 0.6259\n",
      "Valid Loss: 1.3914, Valid Accuracy: 0.5217\n"
     ]
    },
    {
     "name": "stderr",
     "output_type": "stream",
     "text": [
      "Epoch 9/30: 100%|██████████| 1250/1250 [00:16<00:00, 76.28it/s]\n",
      "Epoch 9/30: 100%|██████████| 313/313 [00:00<00:00, 403.15it/s]\n"
     ]
    },
    {
     "name": "stdout",
     "output_type": "stream",
     "text": [
      "Train Loss: 0.9928, Train Accuracy: 0.6506\n",
      "Valid Loss: 1.3745, Valid Accuracy: 0.5337\n"
     ]
    },
    {
     "name": "stderr",
     "output_type": "stream",
     "text": [
      "Epoch 10/30: 100%|██████████| 1250/1250 [00:16<00:00, 75.32it/s]\n",
      "Epoch 10/30: 100%|██████████| 313/313 [00:00<00:00, 376.62it/s]\n"
     ]
    },
    {
     "name": "stdout",
     "output_type": "stream",
     "text": [
      "Train Loss: 0.9275, Train Accuracy: 0.6713\n",
      "Valid Loss: 1.3874, Valid Accuracy: 0.5313\n"
     ]
    },
    {
     "name": "stderr",
     "output_type": "stream",
     "text": [
      "Epoch 11/30: 100%|██████████| 1250/1250 [00:16<00:00, 74.65it/s]\n",
      "Epoch 11/30: 100%|██████████| 313/313 [00:00<00:00, 386.46it/s]\n"
     ]
    },
    {
     "name": "stdout",
     "output_type": "stream",
     "text": [
      "Train Loss: 0.8624, Train Accuracy: 0.6947\n",
      "Valid Loss: 1.4267, Valid Accuracy: 0.5247\n"
     ]
    },
    {
     "name": "stderr",
     "output_type": "stream",
     "text": [
      "Epoch 12/30: 100%|██████████| 1250/1250 [00:14<00:00, 86.61it/s]\n",
      "Epoch 12/30: 100%|██████████| 313/313 [00:00<00:00, 424.73it/s]\n"
     ]
    },
    {
     "name": "stdout",
     "output_type": "stream",
     "text": [
      "Train Loss: 0.7981, Train Accuracy: 0.7176\n",
      "Valid Loss: 1.4473, Valid Accuracy: 0.5265\n"
     ]
    },
    {
     "name": "stderr",
     "output_type": "stream",
     "text": [
      "Epoch 13/30: 100%|██████████| 1250/1250 [00:16<00:00, 73.96it/s]\n",
      "Epoch 13/30: 100%|██████████| 313/313 [00:00<00:00, 331.32it/s]\n"
     ]
    },
    {
     "name": "stdout",
     "output_type": "stream",
     "text": [
      "Train Loss: 0.7349, Train Accuracy: 0.7384\n",
      "Valid Loss: 1.5084, Valid Accuracy: 0.5325\n"
     ]
    },
    {
     "name": "stderr",
     "output_type": "stream",
     "text": [
      "Epoch 14/30: 100%|██████████| 1250/1250 [00:17<00:00, 71.02it/s]\n",
      "Epoch 14/30: 100%|██████████| 313/313 [00:00<00:00, 354.12it/s]\n"
     ]
    },
    {
     "name": "stdout",
     "output_type": "stream",
     "text": [
      "Train Loss: 0.6733, Train Accuracy: 0.7609\n",
      "Valid Loss: 1.5505, Valid Accuracy: 0.5340\n"
     ]
    },
    {
     "name": "stderr",
     "output_type": "stream",
     "text": [
      "Epoch 15/30: 100%|██████████| 1250/1250 [00:16<00:00, 76.05it/s]\n",
      "Epoch 15/30: 100%|██████████| 313/313 [00:00<00:00, 320.04it/s]\n"
     ]
    },
    {
     "name": "stdout",
     "output_type": "stream",
     "text": [
      "Train Loss: 0.6092, Train Accuracy: 0.7831\n",
      "Valid Loss: 1.6334, Valid Accuracy: 0.5262\n"
     ]
    },
    {
     "name": "stderr",
     "output_type": "stream",
     "text": [
      "Epoch 16/30: 100%|██████████| 1250/1250 [00:15<00:00, 80.04it/s]\n",
      "Epoch 16/30: 100%|██████████| 313/313 [00:00<00:00, 417.08it/s]\n"
     ]
    },
    {
     "name": "stdout",
     "output_type": "stream",
     "text": [
      "Train Loss: 0.5488, Train Accuracy: 0.8048\n",
      "Valid Loss: 1.7489, Valid Accuracy: 0.5243\n"
     ]
    },
    {
     "name": "stderr",
     "output_type": "stream",
     "text": [
      "Epoch 17/30: 100%|██████████| 1250/1250 [00:14<00:00, 83.94it/s]\n",
      "Epoch 17/30: 100%|██████████| 313/313 [00:00<00:00, 417.22it/s]\n"
     ]
    },
    {
     "name": "stdout",
     "output_type": "stream",
     "text": [
      "Train Loss: 0.4994, Train Accuracy: 0.8252\n",
      "Valid Loss: 1.7790, Valid Accuracy: 0.5279\n"
     ]
    },
    {
     "name": "stderr",
     "output_type": "stream",
     "text": [
      "Epoch 18/30: 100%|██████████| 1250/1250 [00:14<00:00, 84.55it/s]\n",
      "Epoch 18/30: 100%|██████████| 313/313 [00:00<00:00, 408.25it/s]\n"
     ]
    },
    {
     "name": "stdout",
     "output_type": "stream",
     "text": [
      "Train Loss: 0.4451, Train Accuracy: 0.8435\n",
      "Valid Loss: 1.8359, Valid Accuracy: 0.5369\n"
     ]
    },
    {
     "name": "stderr",
     "output_type": "stream",
     "text": [
      "Epoch 19/30: 100%|██████████| 1250/1250 [00:14<00:00, 84.50it/s]\n",
      "Epoch 19/30: 100%|██████████| 313/313 [00:00<00:00, 409.10it/s]\n"
     ]
    },
    {
     "name": "stdout",
     "output_type": "stream",
     "text": [
      "Train Loss: 0.3985, Train Accuracy: 0.8616\n",
      "Valid Loss: 1.9386, Valid Accuracy: 0.5372\n"
     ]
    },
    {
     "name": "stderr",
     "output_type": "stream",
     "text": [
      "Epoch 20/30: 100%|██████████| 1250/1250 [00:14<00:00, 83.78it/s]\n",
      "Epoch 20/30: 100%|██████████| 313/313 [00:00<00:00, 395.27it/s]\n"
     ]
    },
    {
     "name": "stdout",
     "output_type": "stream",
     "text": [
      "Train Loss: 0.3574, Train Accuracy: 0.8747\n",
      "Valid Loss: 1.9735, Valid Accuracy: 0.5353\n"
     ]
    },
    {
     "name": "stderr",
     "output_type": "stream",
     "text": [
      "Epoch 21/30: 100%|██████████| 1250/1250 [00:16<00:00, 77.42it/s]\n",
      "Epoch 21/30: 100%|██████████| 313/313 [00:00<00:00, 371.71it/s]\n"
     ]
    },
    {
     "name": "stdout",
     "output_type": "stream",
     "text": [
      "Train Loss: 0.3178, Train Accuracy: 0.8907\n",
      "Valid Loss: 2.1094, Valid Accuracy: 0.5308\n"
     ]
    },
    {
     "name": "stderr",
     "output_type": "stream",
     "text": [
      "Epoch 22/30: 100%|██████████| 1250/1250 [00:16<00:00, 76.17it/s]\n",
      "Epoch 22/30: 100%|██████████| 313/313 [00:00<00:00, 411.10it/s]\n"
     ]
    },
    {
     "name": "stdout",
     "output_type": "stream",
     "text": [
      "Train Loss: 0.2830, Train Accuracy: 0.9030\n",
      "Valid Loss: 2.3650, Valid Accuracy: 0.5141\n"
     ]
    },
    {
     "name": "stderr",
     "output_type": "stream",
     "text": [
      "Epoch 23/30: 100%|██████████| 1250/1250 [00:16<00:00, 76.89it/s]\n",
      "Epoch 23/30: 100%|██████████| 313/313 [00:00<00:00, 410.46it/s]\n"
     ]
    },
    {
     "name": "stdout",
     "output_type": "stream",
     "text": [
      "Train Loss: 0.2448, Train Accuracy: 0.9178\n",
      "Valid Loss: 2.3394, Valid Accuracy: 0.5276\n"
     ]
    },
    {
     "name": "stderr",
     "output_type": "stream",
     "text": [
      "Epoch 24/30: 100%|██████████| 1250/1250 [00:15<00:00, 80.74it/s]\n",
      "Epoch 24/30: 100%|██████████| 313/313 [00:00<00:00, 400.16it/s]\n"
     ]
    },
    {
     "name": "stdout",
     "output_type": "stream",
     "text": [
      "Train Loss: 0.2245, Train Accuracy: 0.9237\n",
      "Valid Loss: 2.3914, Valid Accuracy: 0.5275\n"
     ]
    },
    {
     "name": "stderr",
     "output_type": "stream",
     "text": [
      "Epoch 25/30: 100%|██████████| 1250/1250 [00:15<00:00, 81.36it/s]\n",
      "Epoch 25/30: 100%|██████████| 313/313 [00:00<00:00, 402.74it/s]\n"
     ]
    },
    {
     "name": "stdout",
     "output_type": "stream",
     "text": [
      "Train Loss: 0.2068, Train Accuracy: 0.9296\n",
      "Valid Loss: 2.5235, Valid Accuracy: 0.5246\n"
     ]
    },
    {
     "name": "stderr",
     "output_type": "stream",
     "text": [
      "Epoch 26/30: 100%|██████████| 1250/1250 [00:15<00:00, 81.52it/s]\n",
      "Epoch 26/30: 100%|██████████| 313/313 [00:00<00:00, 411.28it/s]\n"
     ]
    },
    {
     "name": "stdout",
     "output_type": "stream",
     "text": [
      "Train Loss: 0.1768, Train Accuracy: 0.9408\n",
      "Valid Loss: 2.7225, Valid Accuracy: 0.5144\n"
     ]
    },
    {
     "name": "stderr",
     "output_type": "stream",
     "text": [
      "Epoch 27/30: 100%|██████████| 1250/1250 [00:15<00:00, 81.95it/s]\n",
      "Epoch 27/30: 100%|██████████| 313/313 [00:00<00:00, 425.29it/s]\n"
     ]
    },
    {
     "name": "stdout",
     "output_type": "stream",
     "text": [
      "Train Loss: 0.1679, Train Accuracy: 0.9437\n",
      "Valid Loss: 2.7399, Valid Accuracy: 0.5165\n"
     ]
    },
    {
     "name": "stderr",
     "output_type": "stream",
     "text": [
      "Epoch 28/30: 100%|██████████| 1250/1250 [00:15<00:00, 80.60it/s]\n",
      "Epoch 28/30: 100%|██████████| 313/313 [00:00<00:00, 408.47it/s]\n"
     ]
    },
    {
     "name": "stdout",
     "output_type": "stream",
     "text": [
      "Train Loss: 0.1461, Train Accuracy: 0.9527\n",
      "Valid Loss: 2.9423, Valid Accuracy: 0.5099\n"
     ]
    },
    {
     "name": "stderr",
     "output_type": "stream",
     "text": [
      "Epoch 29/30: 100%|██████████| 1250/1250 [00:15<00:00, 80.30it/s]\n",
      "Epoch 29/30: 100%|██████████| 313/313 [00:00<00:00, 386.32it/s]\n"
     ]
    },
    {
     "name": "stdout",
     "output_type": "stream",
     "text": [
      "Train Loss: 0.1352, Train Accuracy: 0.9570\n",
      "Valid Loss: 2.9138, Valid Accuracy: 0.5233\n"
     ]
    },
    {
     "name": "stderr",
     "output_type": "stream",
     "text": [
      "Epoch 30/30: 100%|██████████| 1250/1250 [00:15<00:00, 79.94it/s]\n",
      "Epoch 30/30: 100%|██████████| 313/313 [00:00<00:00, 388.12it/s]\n"
     ]
    },
    {
     "name": "stdout",
     "output_type": "stream",
     "text": [
      "Train Loss: 0.1212, Train Accuracy: 0.9616\n",
      "Valid Loss: 2.9708, Valid Accuracy: 0.5295\n",
      "Total training time: 501.55 seconds.\n",
      "Best model at epoch 19 with valid loss: 1.9386, valid accuracy: 0.5372\n"
     ]
    }
   ],
   "source": [
    "criterion = torch.nn.CrossEntropyLoss()\n",
    "optimizer = torch.optim.Adam(lnn_model.parameters(), lr=0.00001)\n",
    "\n",
    "train_loss_history, train_accuracy_history, valid_loss_history, valid_accuracy_history = train_model(lnn_model, train_loader, valid_loader, criterion, optimizer, epochs=30, device='cuda', model_name='lnn_model')"
   ]
  },
  {
   "cell_type": "code",
   "execution_count": 11,
   "metadata": {},
   "outputs": [
    {
     "data": {
      "image/png": "[encoded data removed]",
      "text/plain": [
       "<Figure size 1000x600 with 1 Axes>"
      ]
     },
     "metadata": {},
     "output_type": "display_data"
    }
   ],
   "source": [
    "plt.figure(figsize=(10, 6))\n",
    "\n",
    "plt.plot(range(1, len(train_loss_history) + 1), train_loss_history, label='Training Loss', linewidth=3)\n",
    "plt.plot(range(1, len(valid_loss_history) + 1), valid_loss_history, label='Validation Loss', linewidth=3)\n",
    "\n",
    "plt.title('Training & Validation Loss History', fontsize=20)\n",
    "plt.xlabel('Epoch', fontsize=18)\n",
    "plt.ylabel('Loss', fontsize=18)\n",
    "plt.legend(loc='lower left', fontsize=15)\n",
    "\n",
    "plt.savefig('figures/lnn_loss_history.pdf', format='pdf', bbox_inches='tight')\n",
    "\n",
    "plt.show();"
   ]
  },
  {
   "cell_type": "code",
   "execution_count": 12,
   "metadata": {},
   "outputs": [
    {
     "data": {
      "image/png": "[encoded data removed]",
      "text/plain": [
       "<Figure size 1000x600 with 1 Axes>"
      ]
     },
     "metadata": {},
     "output_type": "display_data"
    }
   ],
   "source": [
    "plt.figure(figsize=(10, 6))\n",
    "\n",
    "plt.plot(range(1, len(train_accuracy_history) + 1), train_accuracy_history, label='Training Accuracy', linewidth=3)\n",
    "plt.plot(range(1, len(valid_accuracy_history) + 1), valid_accuracy_history, label='Validation Accuracy', linewidth=3)\n",
    "\n",
    "plt.title('Training & Validation Accuracy History', fontsize=20)\n",
    "plt.xlabel('Epoch', fontsize=18)\n",
    "plt.ylabel('Loss', fontsize=18)\n",
    "plt.legend(loc='upper left', fontsize=15)\n",
    "\n",
    "plt.savefig('figures/lnn_accuracy_history.pdf', format='pdf', bbox_inches='tight')\n",
    "\n",
    "plt.show();"
   ]
  },
  {
   "cell_type": "code",
   "execution_count": 13,
   "metadata": {},
   "outputs": [
    {
     "name": "stdout",
     "output_type": "stream",
     "text": [
      "Test Loss: 3.0074, Test Accuracy: 0.5267%\n"
     ]
    }
   ],
   "source": [
    "test_loss, test_accuracy = test_model(lnn_model, test_loader, criterion, device='cuda')"
   ]
  },
  {
   "cell_type": "markdown",
   "metadata": {},
   "source": [
    "#### Convolutional Neural Network"
   ]
  },
  {
   "cell_type": "code",
   "execution_count": 14,
   "metadata": {},
   "outputs": [
    {
     "name": "stdout",
     "output_type": "stream",
     "text": [
      "Number of parameters:  6502738\n"
     ]
    }
   ],
   "source": [
    "cnn_model = cnn.CNN(3, num_classes=10)\n",
    "\n",
    "num_params = sum([p.numel() for p in cnn_model.parameters()])\n",
    "print(\"Number of parameters: \", num_params)"
   ]
  },
  {
   "cell_type": "code",
   "execution_count": 15,
   "metadata": {},
   "outputs": [
    {
     "name": "stderr",
     "output_type": "stream",
     "text": [
      "Epoch 1/30: 100%|██████████| 1250/1250 [00:08<00:00, 142.54it/s]\n",
      "Epoch 1/30: 100%|██████████| 313/313 [00:00<00:00, 357.95it/s]\n"
     ]
    },
    {
     "name": "stdout",
     "output_type": "stream",
     "text": [
      "Train Loss: 1.7663, Train Accuracy: 0.3523\n",
      "Valid Loss: 1.5382, Valid Accuracy: 0.4260\n"
     ]
    },
    {
     "name": "stderr",
     "output_type": "stream",
     "text": [
      "Epoch 2/30: 100%|██████████| 1250/1250 [00:08<00:00, 152.58it/s]\n",
      "Epoch 2/30: 100%|██████████| 313/313 [00:00<00:00, 364.76it/s]\n"
     ]
    },
    {
     "name": "stdout",
     "output_type": "stream",
     "text": [
      "Train Loss: 1.4524, Train Accuracy: 0.4724\n",
      "Valid Loss: 1.3993, Valid Accuracy: 0.4876\n"
     ]
    },
    {
     "name": "stderr",
     "output_type": "stream",
     "text": [
      "Epoch 3/30: 100%|██████████| 1250/1250 [00:08<00:00, 151.51it/s]\n",
      "Epoch 3/30: 100%|██████████| 313/313 [00:00<00:00, 331.69it/s]\n"
     ]
    },
    {
     "name": "stdout",
     "output_type": "stream",
     "text": [
      "Train Loss: 1.3192, Train Accuracy: 0.5234\n",
      "Valid Loss: 1.3135, Valid Accuracy: 0.5176\n"
     ]
    },
    {
     "name": "stderr",
     "output_type": "stream",
     "text": [
      "Epoch 4/30: 100%|██████████| 1250/1250 [00:07<00:00, 165.24it/s]\n",
      "Epoch 4/30: 100%|██████████| 313/313 [00:00<00:00, 385.51it/s]\n"
     ]
    },
    {
     "name": "stdout",
     "output_type": "stream",
     "text": [
      "Train Loss: 1.2275, Train Accuracy: 0.5602\n",
      "Valid Loss: 1.2683, Valid Accuracy: 0.5388\n"
     ]
    },
    {
     "name": "stderr",
     "output_type": "stream",
     "text": [
      "Epoch 5/30: 100%|██████████| 1250/1250 [00:08<00:00, 152.40it/s]\n",
      "Epoch 5/30: 100%|██████████| 313/313 [00:00<00:00, 364.81it/s]\n"
     ]
    },
    {
     "name": "stdout",
     "output_type": "stream",
     "text": [
      "Train Loss: 1.1588, Train Accuracy: 0.5866\n",
      "Valid Loss: 1.2444, Valid Accuracy: 0.5495\n"
     ]
    },
    {
     "name": "stderr",
     "output_type": "stream",
     "text": [
      "Epoch 6/30: 100%|██████████| 1250/1250 [00:08<00:00, 152.26it/s]\n",
      "Epoch 6/30: 100%|██████████| 313/313 [00:00<00:00, 370.86it/s]\n"
     ]
    },
    {
     "name": "stdout",
     "output_type": "stream",
     "text": [
      "Train Loss: 1.0991, Train Accuracy: 0.6106\n",
      "Valid Loss: 1.2055, Valid Accuracy: 0.5640\n"
     ]
    },
    {
     "name": "stderr",
     "output_type": "stream",
     "text": [
      "Epoch 7/30: 100%|██████████| 1250/1250 [00:08<00:00, 148.59it/s]\n",
      "Epoch 7/30: 100%|██████████| 313/313 [00:01<00:00, 272.73it/s]\n"
     ]
    },
    {
     "name": "stdout",
     "output_type": "stream",
     "text": [
      "Train Loss: 1.0423, Train Accuracy: 0.6292\n",
      "Valid Loss: 1.1926, Valid Accuracy: 0.5729\n"
     ]
    },
    {
     "name": "stderr",
     "output_type": "stream",
     "text": [
      "Epoch 8/30: 100%|██████████| 1250/1250 [00:08<00:00, 143.98it/s]\n",
      "Epoch 8/30: 100%|██████████| 313/313 [00:00<00:00, 365.50it/s]\n"
     ]
    },
    {
     "name": "stdout",
     "output_type": "stream",
     "text": [
      "Train Loss: 0.9964, Train Accuracy: 0.6464\n",
      "Valid Loss: 1.1724, Valid Accuracy: 0.5792\n"
     ]
    },
    {
     "name": "stderr",
     "output_type": "stream",
     "text": [
      "Epoch 9/30: 100%|██████████| 1250/1250 [00:07<00:00, 162.84it/s]\n",
      "Epoch 9/30: 100%|██████████| 313/313 [00:00<00:00, 376.87it/s]\n"
     ]
    },
    {
     "name": "stdout",
     "output_type": "stream",
     "text": [
      "Train Loss: 0.9544, Train Accuracy: 0.6628\n",
      "Valid Loss: 1.1775, Valid Accuracy: 0.5799\n"
     ]
    },
    {
     "name": "stderr",
     "output_type": "stream",
     "text": [
      "Epoch 10/30: 100%|██████████| 1250/1250 [00:07<00:00, 162.81it/s]\n",
      "Epoch 10/30: 100%|██████████| 313/313 [00:00<00:00, 377.76it/s]\n"
     ]
    },
    {
     "name": "stdout",
     "output_type": "stream",
     "text": [
      "Train Loss: 0.9043, Train Accuracy: 0.6794\n",
      "Valid Loss: 1.1647, Valid Accuracy: 0.5876\n"
     ]
    },
    {
     "name": "stderr",
     "output_type": "stream",
     "text": [
      "Epoch 11/30: 100%|██████████| 1250/1250 [00:07<00:00, 160.18it/s]\n",
      "Epoch 11/30: 100%|██████████| 313/313 [00:00<00:00, 383.27it/s]\n"
     ]
    },
    {
     "name": "stdout",
     "output_type": "stream",
     "text": [
      "Train Loss: 0.8660, Train Accuracy: 0.6959\n",
      "Valid Loss: 1.1820, Valid Accuracy: 0.5812\n"
     ]
    },
    {
     "name": "stderr",
     "output_type": "stream",
     "text": [
      "Epoch 12/30: 100%|██████████| 1250/1250 [00:07<00:00, 162.59it/s]\n",
      "Epoch 12/30: 100%|██████████| 313/313 [00:00<00:00, 374.98it/s]\n"
     ]
    },
    {
     "name": "stdout",
     "output_type": "stream",
     "text": [
      "Train Loss: 0.8256, Train Accuracy: 0.7091\n",
      "Valid Loss: 1.1735, Valid Accuracy: 0.5890\n"
     ]
    },
    {
     "name": "stderr",
     "output_type": "stream",
     "text": [
      "Epoch 13/30: 100%|██████████| 1250/1250 [00:07<00:00, 160.13it/s]\n",
      "Epoch 13/30: 100%|██████████| 313/313 [00:00<00:00, 359.35it/s]\n"
     ]
    },
    {
     "name": "stdout",
     "output_type": "stream",
     "text": [
      "Train Loss: 0.7868, Train Accuracy: 0.7253\n",
      "Valid Loss: 1.1754, Valid Accuracy: 0.5913\n"
     ]
    },
    {
     "name": "stderr",
     "output_type": "stream",
     "text": [
      "Epoch 14/30: 100%|██████████| 1250/1250 [00:08<00:00, 156.12it/s]\n",
      "Epoch 14/30: 100%|██████████| 313/313 [00:00<00:00, 369.30it/s]\n"
     ]
    },
    {
     "name": "stdout",
     "output_type": "stream",
     "text": [
      "Train Loss: 0.7477, Train Accuracy: 0.7375\n",
      "Valid Loss: 1.1877, Valid Accuracy: 0.5931\n"
     ]
    },
    {
     "name": "stderr",
     "output_type": "stream",
     "text": [
      "Epoch 15/30: 100%|██████████| 1250/1250 [00:07<00:00, 159.55it/s]\n",
      "Epoch 15/30: 100%|██████████| 313/313 [00:00<00:00, 364.74it/s]\n"
     ]
    },
    {
     "name": "stdout",
     "output_type": "stream",
     "text": [
      "Train Loss: 0.7107, Train Accuracy: 0.7531\n",
      "Valid Loss: 1.2087, Valid Accuracy: 0.5932\n"
     ]
    },
    {
     "name": "stderr",
     "output_type": "stream",
     "text": [
      "Epoch 16/30: 100%|██████████| 1250/1250 [00:08<00:00, 149.08it/s]\n",
      "Epoch 16/30: 100%|██████████| 313/313 [00:00<00:00, 333.26it/s]\n"
     ]
    },
    {
     "name": "stdout",
     "output_type": "stream",
     "text": [
      "Train Loss: 0.6744, Train Accuracy: 0.7663\n",
      "Valid Loss: 1.2193, Valid Accuracy: 0.5916\n"
     ]
    },
    {
     "name": "stderr",
     "output_type": "stream",
     "text": [
      "Epoch 17/30: 100%|██████████| 1250/1250 [00:08<00:00, 154.23it/s]\n",
      "Epoch 17/30: 100%|██████████| 313/313 [00:00<00:00, 350.05it/s]\n"
     ]
    },
    {
     "name": "stdout",
     "output_type": "stream",
     "text": [
      "Train Loss: 0.6376, Train Accuracy: 0.7789\n",
      "Valid Loss: 1.2210, Valid Accuracy: 0.5983\n"
     ]
    },
    {
     "name": "stderr",
     "output_type": "stream",
     "text": [
      "Epoch 18/30: 100%|██████████| 1250/1250 [00:07<00:00, 160.37it/s]\n",
      "Epoch 18/30: 100%|██████████| 313/313 [00:00<00:00, 381.57it/s]\n"
     ]
    },
    {
     "name": "stdout",
     "output_type": "stream",
     "text": [
      "Train Loss: 0.6063, Train Accuracy: 0.7899\n",
      "Valid Loss: 1.2532, Valid Accuracy: 0.5945\n"
     ]
    },
    {
     "name": "stderr",
     "output_type": "stream",
     "text": [
      "Epoch 19/30: 100%|██████████| 1250/1250 [00:07<00:00, 163.29it/s]\n",
      "Epoch 19/30: 100%|██████████| 313/313 [00:00<00:00, 357.67it/s]\n"
     ]
    },
    {
     "name": "stdout",
     "output_type": "stream",
     "text": [
      "Train Loss: 0.5736, Train Accuracy: 0.8032\n",
      "Valid Loss: 1.2833, Valid Accuracy: 0.5897\n"
     ]
    },
    {
     "name": "stderr",
     "output_type": "stream",
     "text": [
      "Epoch 20/30: 100%|██████████| 1250/1250 [00:07<00:00, 159.39it/s]\n",
      "Epoch 20/30: 100%|██████████| 313/313 [00:00<00:00, 360.93it/s]\n"
     ]
    },
    {
     "name": "stdout",
     "output_type": "stream",
     "text": [
      "Train Loss: 0.5407, Train Accuracy: 0.8144\n",
      "Valid Loss: 1.3070, Valid Accuracy: 0.5911\n"
     ]
    },
    {
     "name": "stderr",
     "output_type": "stream",
     "text": [
      "Epoch 21/30: 100%|██████████| 1250/1250 [00:07<00:00, 163.43it/s]\n",
      "Epoch 21/30: 100%|██████████| 313/313 [00:00<00:00, 366.47it/s]\n"
     ]
    },
    {
     "name": "stdout",
     "output_type": "stream",
     "text": [
      "Train Loss: 0.5118, Train Accuracy: 0.8258\n",
      "Valid Loss: 1.3395, Valid Accuracy: 0.5875\n"
     ]
    },
    {
     "name": "stderr",
     "output_type": "stream",
     "text": [
      "Epoch 22/30: 100%|██████████| 1250/1250 [00:08<00:00, 154.08it/s]\n",
      "Epoch 22/30: 100%|██████████| 313/313 [00:00<00:00, 329.30it/s]\n"
     ]
    },
    {
     "name": "stdout",
     "output_type": "stream",
     "text": [
      "Train Loss: 0.4776, Train Accuracy: 0.8363\n",
      "Valid Loss: 1.3406, Valid Accuracy: 0.5947\n"
     ]
    },
    {
     "name": "stderr",
     "output_type": "stream",
     "text": [
      "Epoch 23/30: 100%|██████████| 1250/1250 [00:07<00:00, 159.18it/s]\n",
      "Epoch 23/30: 100%|██████████| 313/313 [00:00<00:00, 361.52it/s]\n"
     ]
    },
    {
     "name": "stdout",
     "output_type": "stream",
     "text": [
      "Train Loss: 0.4516, Train Accuracy: 0.8451\n",
      "Valid Loss: 1.4059, Valid Accuracy: 0.5894\n"
     ]
    },
    {
     "name": "stderr",
     "output_type": "stream",
     "text": [
      "Epoch 24/30: 100%|██████████| 1250/1250 [00:07<00:00, 160.58it/s]\n",
      "Epoch 24/30: 100%|██████████| 313/313 [00:00<00:00, 360.79it/s]\n"
     ]
    },
    {
     "name": "stdout",
     "output_type": "stream",
     "text": [
      "Train Loss: 0.4193, Train Accuracy: 0.8579\n",
      "Valid Loss: 1.4216, Valid Accuracy: 0.5881\n"
     ]
    },
    {
     "name": "stderr",
     "output_type": "stream",
     "text": [
      "Epoch 25/30: 100%|██████████| 1250/1250 [00:07<00:00, 159.13it/s]\n",
      "Epoch 25/30: 100%|██████████| 313/313 [00:00<00:00, 381.01it/s]\n"
     ]
    },
    {
     "name": "stdout",
     "output_type": "stream",
     "text": [
      "Train Loss: 0.3952, Train Accuracy: 0.8680\n",
      "Valid Loss: 1.4557, Valid Accuracy: 0.5877\n"
     ]
    },
    {
     "name": "stderr",
     "output_type": "stream",
     "text": [
      "Epoch 26/30: 100%|██████████| 1250/1250 [00:08<00:00, 156.17it/s]\n",
      "Epoch 26/30: 100%|██████████| 313/313 [00:00<00:00, 363.88it/s]\n"
     ]
    },
    {
     "name": "stdout",
     "output_type": "stream",
     "text": [
      "Train Loss: 0.3712, Train Accuracy: 0.8752\n",
      "Valid Loss: 1.4900, Valid Accuracy: 0.5875\n"
     ]
    },
    {
     "name": "stderr",
     "output_type": "stream",
     "text": [
      "Epoch 27/30: 100%|██████████| 1250/1250 [00:07<00:00, 158.30it/s]\n",
      "Epoch 27/30: 100%|██████████| 313/313 [00:00<00:00, 369.83it/s]\n"
     ]
    },
    {
     "name": "stdout",
     "output_type": "stream",
     "text": [
      "Train Loss: 0.3434, Train Accuracy: 0.8865\n",
      "Valid Loss: 1.5204, Valid Accuracy: 0.5909\n"
     ]
    },
    {
     "name": "stderr",
     "output_type": "stream",
     "text": [
      "Epoch 28/30: 100%|██████████| 1250/1250 [00:08<00:00, 155.76it/s]\n",
      "Epoch 28/30: 100%|██████████| 313/313 [00:00<00:00, 351.37it/s]\n"
     ]
    },
    {
     "name": "stdout",
     "output_type": "stream",
     "text": [
      "Train Loss: 0.3234, Train Accuracy: 0.8937\n",
      "Valid Loss: 1.5621, Valid Accuracy: 0.5868\n"
     ]
    },
    {
     "name": "stderr",
     "output_type": "stream",
     "text": [
      "Epoch 29/30: 100%|██████████| 1250/1250 [00:08<00:00, 154.46it/s]\n",
      "Epoch 29/30: 100%|██████████| 313/313 [00:00<00:00, 356.48it/s]\n"
     ]
    },
    {
     "name": "stdout",
     "output_type": "stream",
     "text": [
      "Train Loss: 0.3033, Train Accuracy: 0.9005\n",
      "Valid Loss: 1.5939, Valid Accuracy: 0.5853\n"
     ]
    },
    {
     "name": "stderr",
     "output_type": "stream",
     "text": [
      "Epoch 30/30: 100%|██████████| 1250/1250 [00:08<00:00, 156.08it/s]\n",
      "Epoch 30/30: 100%|██████████| 313/313 [00:00<00:00, 386.83it/s]\n"
     ]
    },
    {
     "name": "stdout",
     "output_type": "stream",
     "text": [
      "Train Loss: 0.2861, Train Accuracy: 0.9053\n",
      "Valid Loss: 1.6138, Valid Accuracy: 0.5871\n",
      "Total training time: 266.10 seconds.\n",
      "Best model at epoch 17 with valid loss: 1.2210, valid accuracy: 0.5983\n"
     ]
    }
   ],
   "source": [
    "criterion = torch.nn.CrossEntropyLoss()\n",
    "optimizer = torch.optim.Adam(cnn_model.parameters(), lr=0.00001)\n",
    "\n",
    "train_loss_history, train_accuracy_history, valid_loss_history, valid_accuracy_history = train_model(cnn_model, train_loader, valid_loader, criterion, optimizer, epochs=30, device='cuda', model_name='cnn_model')"
   ]
  },
  {
   "cell_type": "code",
   "execution_count": 16,
   "metadata": {},
   "outputs": [
    {
     "data": {
      "image/png": "[encoded data removed]",
      "text/plain": [
       "<Figure size 1000x600 with 1 Axes>"
      ]
     },
     "metadata": {},
     "output_type": "display_data"
    }
   ],
   "source": [
    "plt.figure(figsize=(10, 6))\n",
    "\n",
    "plt.plot(range(1, len(train_loss_history) + 1), train_loss_history, label='Training Loss', linewidth=3)\n",
    "plt.plot(range(1, len(valid_loss_history) + 1), valid_loss_history, label='Validation Loss', linewidth=3)\n",
    "\n",
    "plt.title('Training & Validation Loss History', fontsize=20)\n",
    "plt.xlabel('Epoch', fontsize=18)\n",
    "plt.ylabel('Loss', fontsize=18)\n",
    "plt.legend(loc='lower left', fontsize=15)\n",
    "\n",
    "plt.savefig('figures/cnn_loss_history.pdf', format='pdf', bbox_inches='tight')\n",
    "\n",
    "plt.show();"
   ]
  },
  {
   "cell_type": "code",
   "execution_count": 17,
   "metadata": {},
   "outputs": [
    {
     "data": {
      "image/png": "[encoded data removed]",
      "text/plain": [
       "<Figure size 1000x600 with 1 Axes>"
      ]
     },
     "metadata": {},
     "output_type": "display_data"
    }
   ],
   "source": [
    "plt.figure(figsize=(10, 6))\n",
    "\n",
    "plt.plot(range(1, len(train_accuracy_history) + 1), train_accuracy_history, label='Training Accuracy', linewidth=3)\n",
    "plt.plot(range(1, len(valid_accuracy_history) + 1), valid_accuracy_history, label='Validation Accuracy', linewidth=3)\n",
    "\n",
    "plt.title('Training & Validation Accuracy History', fontsize=20)\n",
    "plt.xlabel('Epoch', fontsize=18)\n",
    "plt.ylabel('Loss', fontsize=18)\n",
    "plt.legend(loc='upper left', fontsize=15)\n",
    "\n",
    "plt.savefig('figures/cnn_accuracy_history.pdf', format='pdf', bbox_inches='tight')\n",
    "\n",
    "plt.show();"
   ]
  },
  {
   "cell_type": "code",
   "execution_count": 18,
   "metadata": {},
   "outputs": [
    {
     "name": "stdout",
     "output_type": "stream",
     "text": [
      "Test Loss: 1.6183, Test Accuracy: 0.5951%\n"
     ]
    }
   ],
   "source": [
    "test_loss, test_accuracy = test_model(cnn_model, test_loader, criterion, device='cuda')"
   ]
  }
 ],
 "metadata": {
  "kernelspec": {
   "display_name": "Python 3",
   "language": "python",
   "name": "python3"
  },
  "language_info": {
   "codemirror_mode": {
    "name": "ipython",
    "version": 3
   },
   "file_extension": ".py",
   "mimetype": "text/x-python",
   "name": "python",
   "nbconvert_exporter": "python",
   "pygments_lexer": "ipython3",
   "version": "3.10.12"
  }
 },
 "nbformat": 4,
 "nbformat_minor": 2
}
